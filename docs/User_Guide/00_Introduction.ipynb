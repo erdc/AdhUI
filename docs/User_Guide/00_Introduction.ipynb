{
 "cells": [
  {
   "cell_type": "markdown",
   "metadata": {},
   "source": [
    "### Pages\n",
    "The pages included here are examples of the complete pages that are available for use in dashboarding.   \n",
    "  \n",
    "Each page is a single parameterized class that is capable of both standing alone and used a building  \n",
    "block in more complex workflows.   \n",
    "  \n",
    "The examples here are meant to be demonstrations of the individual pages, i.e. they don't necessarily *do*   \n",
    "anything on their own. For functional dashboard examples, see the Dashboards section of the docs.     "
   ]
  }
 ],
 "metadata": {
  "kernelspec": {
   "display_name": "Python 3",
   "language": "python",
   "name": "python3"
  },
  "language_info": {
   "codemirror_mode": {
    "name": "ipython",
    "version": 3
   },
   "file_extension": ".py",
   "mimetype": "text/x-python",
   "name": "python",
   "nbconvert_exporter": "python",
   "pygments_lexer": "ipython3",
   "version": "3.6.7"
  }
 },
 "nbformat": 4,
 "nbformat_minor": 2
}
