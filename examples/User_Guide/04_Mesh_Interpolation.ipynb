{
 "cells": [
  {
   "cell_type": "markdown",
   "metadata": {},
   "source": [
    "## User Guide :: Mesh Interpolation Page  \n",
    "The mesh interpolation page allows users to take an existing mesh and scatterset and interpolate  \n",
    "the scatter points onto the mesh.  "
   ]
  },
  {
   "cell_type": "code",
   "execution_count": null,
   "metadata": {},
   "outputs": [],
   "source": [
    "from adhui.mesh_ui import InterpolateMesh\n",
    "from adhmodel import AdhModel, AdhMesh\n",
    "import holoviews as hv\n",
    "import panel as pn\n",
    "\n",
    "pn.extension()\n",
    "hv.extension('bokeh')"
   ]
  },
  {
   "cell_type": "markdown",
   "metadata": {},
   "source": [
    "Load an existing model and mesh from netcdf"
   ]
  },
  {
   "cell_type": "code",
   "execution_count": null,
   "metadata": {},
   "outputs": [],
   "source": [
    "# set the directory and project name\n",
    "directory = '../../tests/test_files/SanDiego'\n",
    "name = 'SanDiego'\n",
    "\n",
    "# instantiate an empty model object\n",
    "adh_mod = AdhModel()\n",
    "# read the netcdf data\n",
    "adh_mod.read(directory, project_name=name, fmt='nc')"
   ]
  },
  {
   "cell_type": "markdown",
   "metadata": {},
   "source": [
    "Instantiate the mesh interpolation page with the existing data"
   ]
  },
  {
   "cell_type": "code",
   "execution_count": null,
   "metadata": {},
   "outputs": [],
   "source": [
    "# instatiate the interpolation page\n",
    "interp_panel = InterpolateMesh(adh_mod=adh_mod)\n",
    "# visualize the page in the notebook\n",
    "interp_panel.panel()"
   ]
  },
  {
   "cell_type": "markdown",
   "metadata": {},
   "source": [
    "Alternately, the page can be viewed as a standalone Bokeh app"
   ]
  },
  {
   "cell_type": "code",
   "execution_count": null,
   "metadata": {},
   "outputs": [],
   "source": [
    "# instatiate the interpolation page\n",
    "interp_panel = InterpolateMesh(adh_mod=adh_mod)\n",
    "# visualize the page as a deployable app\n",
    "interp_panel.panel().show()"
   ]
  }
 ],
 "metadata": {
  "kernelspec": {
   "display_name": "Python 3",
   "language": "python",
   "name": "python3"
  },
  "language_info": {
   "codemirror_mode": {
    "name": "ipython",
    "version": 3
   },
   "file_extension": ".py",
   "mimetype": "text/x-python",
   "name": "python",
   "nbconvert_exporter": "python",
   "pygments_lexer": "ipython3",
   "version": "3.6.7"
  }
 },
 "nbformat": 4,
 "nbformat_minor": 2
}
