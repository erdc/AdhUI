{
 "cells": [
  {
   "cell_type": "markdown",
   "metadata": {},
   "source": [
    "## Mesh Generation User Guide\n",
    "The mesh generation page allows users to create a mesh from a conceptual model (points and polygons).  \n",
    "Users may instantiage the page with pre-loaded data, or they may draw data on the map interface.   \n",
    "Interpolation of scatter data onto the mesh can be found in the Interpolation Guide.   "
   ]
  },
  {
   "cell_type": "code",
   "execution_count": null,
   "metadata": {},
   "outputs": [],
   "source": [
    "from adhui import CreateMesh\n",
    "from adhmodel import AdhModel\n",
    "import holoviews as hv\n",
    "import geoviews as gv\n",
    "import cartopy.crs as ccrs\n",
    "import pandas as pd\n",
    "\n",
    "hv.extension('bokeh')"
   ]
  },
  {
   "cell_type": "markdown",
   "metadata": {},
   "source": [
    "For this example, we will specify some points and polygons and their projection."
   ]
  },
  {
   "cell_type": "code",
   "execution_count": null,
   "metadata": {},
   "outputs": [],
   "source": [
    "# create some polygons and assocaited mesh node spacing\n",
    "sample_poly1 = dict(\n",
    "    Longitude=[-10114986, -10123906, -10130333, -10121522, -10129889, -10122959],\n",
    "    Latitude=[3806790, 3812413, 3807530, 3805407, 3798394, 3796693])\n",
    "sample_poly2 = dict(\n",
    "    Longitude=[-10095762, -10101582, -10104906],\n",
    "    Latitude=[3804189, 3817180, 3799659])\n",
    "sample_poly1['node_spacing'] = 1000\n",
    "sample_poly2['node_spacing'] = 1000\n",
    "\n",
    "# create a sample point with its local mesh node spacing\n",
    "sample_points = pd.DataFrame({\n",
    "            'Longitude': [-10100750],\n",
    "            'Latitude': [3807009.333],\n",
    "            'node_spacing': [400]})\n",
    "\n",
    "# define the projection of the data\n",
    "crs = ccrs.GOOGLE_MERCATOR\n",
    "\n",
    "# create geoviews elements from the points and polys data\n",
    "polys = gv.Polygons(data=[sample_poly1, sample_poly2], crs=crs)\n",
    "points = gv.Points(data=sample_points, crs=crs)\n",
    "\n",
    "# create an adh model object\n",
    "adh_mod = AdhModel(path_type=gv.Polygons, polys=polys, points=points,\n",
    "                   point_columns=['node_spacing'], poly_columns=['node_spacing'],\n",
    "                   crs=crs)"
   ]
  },
  {
   "cell_type": "markdown",
   "metadata": {},
   "source": [
    "Then we will instantiate the page with the pre-loaded data (no need to use the Import Data tab)"
   ]
  },
  {
   "cell_type": "code",
   "execution_count": null,
   "metadata": {},
   "outputs": [],
   "source": [
    "# instantiate the page\n",
    "mesh_panel = CreateMesh(adh_mod=adh_mod)\n",
    "\n",
    "# visualize the page in the notebook\n",
    "mesh_panel.panel()"
   ]
  },
  {
   "cell_type": "markdown",
   "metadata": {},
   "source": [
    "Alternately, we can easily deploy it as a Bokeh app."
   ]
  },
  {
   "cell_type": "code",
   "execution_count": null,
   "metadata": {},
   "outputs": [],
   "source": [
    "# instantiate the page\n",
    "mesh_app = CreateMesh(adh_mod=adh_mod)\n",
    "\n",
    "# visualize the page as a deployed app\n",
    "mesh_app.panel().show()"
   ]
  }
 ],
 "metadata": {
  "kernelspec": {
   "display_name": "Python 3",
   "language": "python",
   "name": "python3"
  },
  "language_info": {
   "codemirror_mode": {
    "name": "ipython",
    "version": 3
   },
   "file_extension": ".py",
   "mimetype": "text/x-python",
   "name": "python",
   "nbconvert_exporter": "python",
   "pygments_lexer": "ipython3",
   "version": "3.6.7"
  }
 },
 "nbformat": 4,
 "nbformat_minor": 2
}
