{
 "cells": [
  {
   "cell_type": "code",
   "execution_count": null,
   "metadata": {},
   "outputs": [],
   "source": [
    "import param\n",
    "import panel as pn\n",
    "from adhmodel import AdhModel, AdhMesh, AdhSimulation, BoundaryConditions\n",
    "from adhui import BoundaryConditionsUI, AdhView, LoadModel\n",
    "import holoviews as hv\n",
    "import uit\n",
    "import glob, os\n",
    "from uit.panel_util import HpcConnection, PbsScriptStage, JobMonitor\n",
    "from uit import Client, PbsScript, PbsJob\n",
    "# from adhui.adh_model_ui import AdhViewBasic\n",
    "from adhui import AdhModelSubmit\n",
    "\n",
    "hv.extension('bokeh')"
   ]
  },
  {
   "cell_type": "code",
   "execution_count": null,
   "metadata": {},
   "outputs": [],
   "source": [
    "# load the default dataset for this example\n",
    "load_model = LoadModel()\n",
    "load_model.panel()"
   ]
  },
  {
   "cell_type": "code",
   "execution_count": null,
   "metadata": {},
   "outputs": [],
   "source": [
    "adh_mod = load_model._load_data()"
   ]
  },
  {
   "cell_type": "code",
   "execution_count": null,
   "metadata": {},
   "outputs": [],
   "source": [
    "# Instantiate the dashboard\n",
    "# dashboard = AdhView(adh_mod=adh_mod)\n",
    "dashboard = AdhViewBasic(adh_mod=adh_mod)\n",
    "# View the dashboard \n",
    "# dashboard.panel() # view the dashboard in a notebook cell\n",
    "# dashboard.panel().show() # view the dashboard as a separate page"
   ]
  },
  {
   "cell_type": "markdown",
   "metadata": {},
   "source": [
    "================"
   ]
  },
  {
   "cell_type": "code",
   "execution_count": null,
   "metadata": {},
   "outputs": [],
   "source": [
    "# connect to the hpc\n",
    "connect = HpcConnection(system='onyx')\n",
    "connect.panel()"
   ]
  },
  {
   "cell_type": "code",
   "execution_count": null,
   "metadata": {},
   "outputs": [],
   "source": [
    "uit_client = connect.next()"
   ]
  },
  {
   "cell_type": "code",
   "execution_count": null,
   "metadata": {},
   "outputs": [],
   "source": [
    "submit = AdhModelSubmit(uit_client=uit_client)\n",
    "submit.panel()"
   ]
  },
  {
   "cell_type": "code",
   "execution_count": null,
   "metadata": {},
   "outputs": [],
   "source": [
    "job = submit.submit()"
   ]
  },
  {
   "cell_type": "code",
   "execution_count": null,
   "metadata": {},
   "outputs": [],
   "source": [
    "monitor = JobMonitor(uit_client=uit_client, jobs=[job])\n",
    "monitor.panel()\n"
   ]
  },
  {
   "cell_type": "code",
   "execution_count": null,
   "metadata": {},
   "outputs": [],
   "source": [
    "class FileManager(param.Parameterized):\n",
    "    directory = param.String(\n",
    "        default=os.getcwd(),\n",
    "        precedence=0.1\n",
    "    )\n",
    "    file_keyword = param.String(\n",
    "        doc='Keyword for file name. Hidden from ui.',\n",
    "        default='*', \n",
    "        precedence=-1\n",
    "    )\n",
    "    file_list = param.ListSelector(\n",
    "        default=[]\n",
    "    )\n",
    "    selected_files = param.ListSelector(\n",
    "        default=[]\n",
    "    )\n",
    "\n",
    "    def __init__(self, **params):\n",
    "        self.cross_selector = pn.widgets.CrossSelector(name='Fruits', value=[], options=self.file_list, width=900)\n",
    "        super().__init__(**params) \n",
    "        \n",
    "        self._update_files()\n",
    "   \n",
    "    @param.depends('directory', watch=True)\n",
    "    def _update_files(self):\n",
    "\n",
    "        self.file_list = glob.glob(os.path.join(self.directory, '*' + self.file_keyword + '*'))\n",
    "        \n",
    "        self.cross_selector.options = self.file_list\n",
    "        \n",
    "    def panel(self):\n",
    "        return pn.Column(self.param.directory, self.cross_selector, width=700)\n",
    "    \n",
    "    @param.output()\n",
    "    def output(self):\n",
    "        \"\"\"Return a list of the values in the right hand box\"\"\"\n",
    "        self.selected_files = self.cross_selector.value\n",
    "        return self.selected_files\n",
    "\n",
    "file_manager = FileManager()"
   ]
  },
  {
   "cell_type": "code",
   "execution_count": null,
   "metadata": {},
   "outputs": [],
   "source": [
    "file_manager.panel()"
   ]
  },
  {
   "cell_type": "code",
   "execution_count": null,
   "metadata": {},
   "outputs": [],
   "source": [
    "class FileManagerHPC(FileManager):\n",
    "    \"\"\"File manager for HPC applications using the uit client for communication. \n",
    "    \n",
    "    This extension of FileManager does not currently make use of \n",
    "    FileManager.root or FileManager.file_keyword\n",
    "    \n",
    "    \"\"\"\n",
    "    uit_client = param.ClassSelector(\n",
    "        Client,\n",
    "        precedence=-1\n",
    "    )\n",
    "    def __init__(self, **params):\n",
    "        if 'uit_client' in params:\n",
    "            self.directory = str(params['uit_client'].WORKDIR)\n",
    "                \n",
    "        super().__init__(**params)\n",
    "        self._update_files()\n",
    "    \n",
    "    @param.depends('directory', watch=True)\n",
    "    def _update_files(self):\n",
    "        # get the ls from the client\n",
    "        ls_df = uit_client.list_dir(\n",
    "            path=self.directory, \n",
    "            parse=True, \n",
    "            as_df=True)\n",
    "        \n",
    "        # catch for errors returned as dict\n",
    "        if type(ls_df) is dict:\n",
    "            raise RuntimeError(f\"\"\"\n",
    "            Request for directory list returned the error: {ls_df['error']} \n",
    "              \n",
    "            Directory requested: {self.directory}\n",
    "            \n",
    "            \"\"\")\n",
    "            \n",
    "        # convert dataframe to file list\n",
    "        self.file_list = ls_df['path'].to_list()\n",
    "\n",
    "        # update cross selector widget\n",
    "        self.cross_selector.options = self.file_list\n",
    "    \n",
    "    def panel(self):\n",
    "        return pn.Column(self.param.directory, self.cross_selector, width=700)\n",
    "    \n",
    "    \n",
    "file_manager_hpc = FileManagerHPC(uit_client=uit_client)"
   ]
  },
  {
   "cell_type": "code",
   "execution_count": null,
   "metadata": {},
   "outputs": [],
   "source": [
    "file_manager_hpc.panel()"
   ]
  },
  {
   "cell_type": "code",
   "execution_count": null,
   "metadata": {},
   "outputs": [],
   "source": []
  },
  {
   "cell_type": "code",
   "execution_count": null,
   "metadata": {},
   "outputs": [],
   "source": [
    "class FileTransfer(param.Parameterized):\n",
    "    uit_client = param.ClassSelector(\n",
    "        Client,\n",
    "        precedence=-1\n",
    "    )\n",
    "\n",
    "    from_location = param.ObjectSelector(\n",
    "        default='topaz', \n",
    "        objects=['topaz', 'onyx', 'local'],\n",
    "        precedence=0.21\n",
    "    )\n",
    "    from_directory = param.String(\n",
    "        precedence=0.22\n",
    "    )\n",
    "    to_location = param.ObjectSelector(\n",
    "        default='topaz', \n",
    "        objects=['topaz', 'onyx', 'local'],\n",
    "        precedence=0.31\n",
    "    )\n",
    "    to_directory = param.String(\n",
    "        precedence=0.32\n",
    "    )\n",
    "    file_manager = param.ClassSelector(\n",
    "        class_=FileManager,\n",
    "        precedence=0.4\n",
    "    )\n",
    "    transfer_button = param.Action(lambda self: self.param.trigger('transfer_button'), label='Transfer', precedence=1.0)\n",
    "\n",
    "    \n",
    "    def __init__(self, uit_client, **params):\n",
    "        \n",
    "        super().__init__(**params)\n",
    "        self.uit_client = uit_client or Client()\n",
    "        self.file_manager = FileManagerHPC(uit_client=self.uit_client)\n",
    "        \n",
    "        # adjust to/from based on uit_client\n",
    "        self.param.from_location.objects = [self.uit_client.system, 'local']\n",
    "        self.from_location = self.uit_client.system\n",
    "        self.param.to_location.objects = [self.uit_client.system, 'local']\n",
    "        self.to_location = self.uit_client.system\n",
    "        \n",
    "    @param.depends('transfer_button', watch=True)\n",
    "    def transfer(self):\n",
    "        if self.from_location == 'local':\n",
    "            for local_file in self.file_manager.cross_selector.value:\n",
    "                self.uit_client.put_file(local_file, self.to_directory)\n",
    "        elif self.to_location == 'local':\n",
    "            for remote_file in self.file_manager.cross_selector.value:\n",
    "                print('transferring {}'.format(remote_file))\n",
    "                self.uit_client.get_file(remote_file, local_path=os.path.join(self.to_directory, os.path.basename(remote_file)))\n",
    "        else:\n",
    "            print('HPC to HPC transfers are not supported.')\n",
    "                \n",
    "    @param.depends('from_directory', watch=True)\n",
    "    def _update_file_manager(self):\n",
    "        \"\"\" \n",
    "        \"\"\"\n",
    "        self.file_manager.directory = self.from_directory\n",
    "        \n",
    "    def _from_location(self):\n",
    "        return pn.Column(self.param.from_location, self.param.from_directory)\n",
    "        \n",
    "    @param.depends('from_location', watch=True)\n",
    "    def _to_location(self):\n",
    "        remote_dir = str(self.uit_client.WORKDIR)\n",
    "        local_dir = os.getcwd()\n",
    "        \n",
    "        if self.from_location == 'local':\n",
    "            # set from location and dir\n",
    "            self.from_directory = local_dir\n",
    "            \n",
    "            # set to location and dir\n",
    "            self.to_location = uit_client.system\n",
    "            self.to_directory = remote_dir\n",
    "            \n",
    "            # set file manager to local manager\n",
    "            self.file_manager = FileManager()\n",
    "        else:\n",
    "            # set to location and dir\n",
    "            self.to_location = 'local'\n",
    "            self.to_directory = local_dir\n",
    "            self.from_directory = remote_dir\n",
    "            \n",
    "            # set file manager to hpc manager\n",
    "            self.file_manager = FileManagerHPC(uit_client=self.uit_client)\n",
    "            \n",
    "        # set cross selector directory\n",
    "        self.file_manager._update_files()\n",
    "        \n",
    "    @param.depends('from_directory', watch=True) \n",
    "    def panel(self):\n",
    "        from_box = pn.WidgetBox(\n",
    "            pn.Column(\n",
    "                self._from_location,\n",
    "                pn.Column(self.file_manager.cross_selector)\n",
    "            )\n",
    "        )\n",
    "\n",
    "        to_box = pn.WidgetBox(\n",
    "            pn.Column(self.param.to_location, self.param.to_directory),\n",
    "            width=900,\n",
    "            width_policy='max'\n",
    "        )\n",
    "        \n",
    "        return pn.Column(\n",
    "            from_box,\n",
    "            to_box,\n",
    "            pn.panel(self.param.transfer_button)\n",
    "        )\n",
    "    \n",
    "    "
   ]
  },
  {
   "cell_type": "code",
   "execution_count": null,
   "metadata": {},
   "outputs": [],
   "source": [
    "file_transfer = FileTransfer(uit_client=uit_client)\n",
    "file_transfer.panel()"
   ]
  }
 ],
 "metadata": {
  "kernelspec": {
   "display_name": "Python 3",
   "language": "python",
   "name": "python3"
  },
  "language_info": {
   "codemirror_mode": {
    "name": "ipython",
    "version": 3
   },
   "file_extension": ".py",
   "mimetype": "text/x-python",
   "name": "python",
   "nbconvert_exporter": "python",
   "pygments_lexer": "ipython3",
   "version": "3.6.7"
  }
 },
 "nbformat": 4,
 "nbformat_minor": 4
}
