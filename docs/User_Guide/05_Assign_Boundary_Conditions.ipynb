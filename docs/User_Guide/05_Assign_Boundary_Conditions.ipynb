{
 "cells": [
  {
   "cell_type": "code",
   "execution_count": null,
   "metadata": {},
   "outputs": [],
   "source": [
    "import param\n",
    "import panel as pn\n",
    "import holoviews as hv\n",
    "from adhmodel import AdhModel, AdhMesh, AdhSimulation, BoundaryConditions\n",
    "from adhui import BoundaryConditionsUI\n",
    "\n",
    "hv.extension('bokeh')"
   ]
  },
  {
   "cell_type": "code",
   "execution_count": null,
   "metadata": {},
   "outputs": [],
   "source": [
    "bc = BoundaryConditions()\n",
    "filename = '/Users/rdchlkcp/ers/gitHub/adh_kit/AdhModel/tests/test_files/base_ka_mult_sed.bc'\n",
    "bc.read(filename, fmt='bc')"
   ]
  },
  {
   "cell_type": "code",
   "execution_count": null,
   "metadata": {},
   "outputs": [],
   "source": [
    "bc_ui = BoundaryConditionsUI(bound_cond=bc)\n",
    "bc_ui.panel()"
   ]
  }
 ],
 "metadata": {
  "kernelspec": {
   "display_name": "Python 3",
   "language": "python",
   "name": "python3"
  },
  "language_info": {
   "codemirror_mode": {
    "name": "ipython",
    "version": 3
   },
   "file_extension": ".py",
   "mimetype": "text/x-python",
   "name": "python",
   "nbconvert_exporter": "python",
   "pygments_lexer": "ipython3",
   "version": "3.6.7"
  }
 },
 "nbformat": 4,
 "nbformat_minor": 2
}
