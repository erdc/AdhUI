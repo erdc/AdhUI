{
 "cells": [
  {
   "cell_type": "code",
   "execution_count": null,
   "metadata": {},
   "outputs": [],
   "source": [
    "import panel as pn\n",
    "import holoviews as hv\n",
    "import geoviews as gv\n",
    "from adhui import CreateMesh, ConceptualModelEditor\n",
    "from earthsim.annotators import PolyAnnotator\n",
    "from earthsim.grabcut import GrabCutPanel, SelectRegionPanel\n",
    "\n",
    "hv.extension('bokeh')"
   ]
  },
  {
   "cell_type": "code",
   "execution_count": null,
   "metadata": {},
   "outputs": [],
   "source": [
    "# create stages for pipeline\n",
    "stages = [\n",
    "    ('Select Region', SelectRegionPanel),\n",
    "    ('Grabcut', GrabCutPanel),\n",
    "    ('Path Editor', ConceptualModelEditor),\n",
    "    ('Mesh', CreateMesh)\n",
    "]\n",
    "\n",
    "# create the pipeline\n",
    "pipeline = pn.pipeline.Pipeline(stages, debug=True)\n",
    "    \n",
    "# return a display of the pipeline\n",
    "pipeline.layout.servable()"
   ]
  }
 ],
 "metadata": {
  "kernelspec": {
   "display_name": "Python 3",
   "language": "python",
   "name": "python3"
  },
  "language_info": {
   "codemirror_mode": {
    "name": "ipython",
    "version": 3
   },
   "file_extension": ".py",
   "mimetype": "text/x-python",
   "name": "python",
   "nbconvert_exporter": "python",
   "pygments_lexer": "ipython3",
   "version": "3.6.7"
  }
 },
 "nbformat": 4,
 "nbformat_minor": 4
}
