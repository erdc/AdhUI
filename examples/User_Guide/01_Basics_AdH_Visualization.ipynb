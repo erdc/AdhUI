{
 "cells": [
  {
   "cell_type": "code",
   "execution_count": null,
   "metadata": {},
   "outputs": [],
   "source": [
    "from adhmodel import AdhModel\n",
    "from adhui import AdhView\n",
    "import cartopy.crs as ccrs\n",
    "import holoviews as hv\n",
    "import datashader as ds\n",
    "import panel as pn\n",
    "import os\n",
    "from holoviews.operation.datashader import rasterize\n",
    "\n",
    "hv.extension('bokeh')"
   ]
  },
  {
   "cell_type": "markdown",
   "metadata": {},
   "source": [
    "### Load the data"
   ]
  },
  {
   "cell_type": "code",
   "execution_count": null,
   "metadata": {},
   "outputs": [],
   "source": [
    "# set the directory and project name\n",
    "directory = os.path.join('..', '..', 'tests', 'test_files', 'SanDiego')\n",
    "name = 'SanDiego'\n",
    "\n",
    "# instantiate an empty model object\n",
    "adh_mod = AdhModel()\n",
    "# read the netcdf data\n",
    "adh_mod.read(directory, project_name=name, fmt='nc')"
   ]
  },
  {
   "cell_type": "markdown",
   "metadata": {},
   "source": [
    "### A peek into the data itself"
   ]
  },
  {
   "cell_type": "code",
   "execution_count": null,
   "metadata": {},
   "outputs": [],
   "source": [
    "# the model data is stored in an xarray model object inside of the annotator\n",
    "adh_mod.mesh.current_sim.results"
   ]
  },
  {
   "cell_type": "code",
   "execution_count": null,
   "metadata": {},
   "outputs": [],
   "source": [
    "# examine the depth results\n",
    "adh_mod.mesh.current_sim.results.Depth"
   ]
  },
  {
   "cell_type": "code",
   "execution_count": null,
   "metadata": {},
   "outputs": [],
   "source": [
    "# get an xarray of a single timestep of 'Depth'\n",
    "adh_mod.mesh.current_sim.results['Depth'].sel(times=0)"
   ]
  },
  {
   "cell_type": "code",
   "execution_count": null,
   "metadata": {},
   "outputs": [],
   "source": [
    "# get an numpy array of a single timestep of 'Depth'\n",
    "adh_mod.mesh.current_sim.results['Depth'].sel(times=0).data"
   ]
  },
  {
   "cell_type": "markdown",
   "metadata": {},
   "source": [
    "### Visualize the results"
   ]
  },
  {
   "cell_type": "code",
   "execution_count": null,
   "metadata": {},
   "outputs": [],
   "source": [
    "# view the mesh elements\n",
    "adh_mod.mesh.view_elements()"
   ]
  },
  {
   "cell_type": "code",
   "execution_count": null,
   "metadata": {},
   "outputs": [],
   "source": [
    "# view the bathymetry\n",
    "adh_mod.mesh.elevation_toggle = True\n",
    "adh_mod.mesh.view_elevation()"
   ]
  },
  {
   "cell_type": "code",
   "execution_count": null,
   "metadata": {},
   "outputs": [],
   "source": [
    "adh_viewer = AdhView(adh_mod=adh_mod)\n",
    "# view the current selection of the result type\n",
    "pn.panel(adh_viewer.param.selected_result)"
   ]
  },
  {
   "cell_type": "code",
   "execution_count": null,
   "metadata": {},
   "outputs": [],
   "source": [
    "# view the result as a timeseries\n",
    "adh_viewer.map_pane"
   ]
  }
 ],
 "metadata": {
  "kernelspec": {
   "display_name": "Python 3",
   "language": "python",
   "name": "python3"
  },
  "language_info": {
   "codemirror_mode": {
    "name": "ipython",
    "version": 3
   },
   "file_extension": ".py",
   "mimetype": "text/x-python",
   "name": "python",
   "nbconvert_exporter": "python",
   "pygments_lexer": "ipython3",
   "version": "3.6.7"
  }
 },
 "nbformat": 4,
 "nbformat_minor": 4
}
