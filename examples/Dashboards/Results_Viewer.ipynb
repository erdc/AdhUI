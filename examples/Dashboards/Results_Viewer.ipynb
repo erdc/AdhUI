{
 "cells": [
  {
   "cell_type": "markdown",
   "metadata": {},
   "source": [
    "## AdH Results Viewer Dashboard\n",
    "This dashboard can be launched inside this notebook by running the command `results_dashboard()` below."
   ]
  },
  {
   "cell_type": "code",
   "execution_count": null,
   "metadata": {},
   "outputs": [],
   "source": [
    "from adhui.adh_model_ui import results_dashboard\n",
    "import holoviews as hv\n",
    "\n",
    "hv.extension('bokeh')"
   ]
  },
  {
   "cell_type": "code",
   "execution_count": null,
   "metadata": {},
   "outputs": [],
   "source": [
    "results_dashboard()"
   ]
  },
  {
   "cell_type": "markdown",
   "metadata": {},
   "source": [
    "### Other methods to deploy this dashboard\n",
    "Alternately, simply appending `.show()` to the command, e.g. `results_dashboard().show()`, will launch a Bokeh server in a separate browser window.  \n",
    "  \n",
    "Finally, this dashboard can be deployed from the command line (completely independent of Jupyter) \n",
    "by running same command with `.servable()` appended. An example of this can be found in `./docs/Deployments/adh_viewer/main.py`, which can be deployed using the command:    \n",
    "`panel serve ./docs/Deployments/adh_viewer/main.py --show --port=5010`   \n",
    "The specification of the port is optional, but if you have multiple dashboards deployed, it may be helpful. "
   ]
  }
 ],
 "metadata": {
  "kernelspec": {
   "display_name": "Python 3",
   "language": "python",
   "name": "python3"
  },
  "language_info": {
   "codemirror_mode": {
    "name": "ipython",
    "version": 3
   },
   "file_extension": ".py",
   "mimetype": "text/x-python",
   "name": "python",
   "nbconvert_exporter": "python",
   "pygments_lexer": "ipython3",
   "version": "3.6.7"
  }
 },
 "nbformat": 4,
 "nbformat_minor": 4
}
