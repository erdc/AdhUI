{
 "cells": [
  {
   "cell_type": "markdown",
   "metadata": {},
   "source": [
    "### Load Model Class\n",
    "This page allows user to load a set of simulation files (including results) from ASCII files or from netcdf file. \n",
    "  \n",
    "The UI will automatically query the directory (or netcdf file) for available results and will  \n",
    "disable result types that are unavailable. If the projection information is included in the   \n",
    "netcdf file, it will be loaded into UI and disabled. Otherwise, the user must input projection  \n",
    "information for ASCII files. "
   ]
  },
  {
   "cell_type": "code",
   "execution_count": null,
   "metadata": {},
   "outputs": [],
   "source": [
    "from adhui.adh_model_ui import LoadModel\n",
    "import panel as pn\n",
    "\n",
    "pn.extension()"
   ]
  },
  {
   "cell_type": "code",
   "execution_count": null,
   "metadata": {},
   "outputs": [],
   "source": [
    "# Instantiate the model loader ui\n",
    "load_model = LoadModel()\n",
    "# display the model loader ui\n",
    "load_model.panel()"
   ]
  },
  {
   "cell_type": "code",
   "execution_count": null,
   "metadata": {},
   "outputs": [],
   "source": [
    "adh_mod = load_model._load_data()\n",
    "adh_mod.pprint()"
   ]
  }
 ],
 "metadata": {
  "kernelspec": {
   "display_name": "Python 3",
   "language": "python",
   "name": "python3"
  },
  "language_info": {
   "codemirror_mode": {
    "name": "ipython",
    "version": 3
   },
   "file_extension": ".py",
   "mimetype": "text/x-python",
   "name": "python",
   "nbconvert_exporter": "python",
   "pygments_lexer": "ipython3",
   "version": "3.6.7"
  }
 },
 "nbformat": 4,
 "nbformat_minor": 2
}
